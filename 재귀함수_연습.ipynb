{
  "nbformat": 4,
  "nbformat_minor": 0,
  "metadata": {
    "colab": {
      "provenance": [],
      "authorship_tag": "ABX9TyMCUbIaGdDTxjUNSKRVWYUm",
      "include_colab_link": true
    },
    "kernelspec": {
      "name": "python3",
      "display_name": "Python 3"
    },
    "language_info": {
      "name": "python"
    }
  },
  "cells": [
    {
      "cell_type": "markdown",
      "metadata": {
        "id": "view-in-github",
        "colab_type": "text"
      },
      "source": [
        "<a href=\"https://colab.research.google.com/github/jisong3266/Python_practice/blob/main/%EC%9E%AC%EA%B7%80%ED%95%A8%EC%88%98_%EC%97%B0%EC%8A%B5.ipynb\" target=\"_parent\"><img src=\"https://colab.research.google.com/assets/colab-badge.svg\" alt=\"Open In Colab\"/></a>"
      ]
    },
    {
      "cell_type": "code",
      "execution_count": 1,
      "metadata": {
        "colab": {
          "base_uri": "https://localhost:8080/"
        },
        "id": "vk_RkkSLs_BU",
        "outputId": "b302fc06-897a-4ef2-8c04-9341bf7b3187"
      },
      "outputs": [
        {
          "output_type": "stream",
          "name": "stdout",
          "text": [
            "5\n",
            "-1\n",
            "7\n",
            "2.8\n",
            "32\n"
          ]
        }
      ],
      "source": [
        "#최댓값 찾기\n",
        "def max_list(my_list):\n",
        "    if len(my_list) == 1:\n",
        "        return my_list[0]\n",
        "    max_sublist = max_list(my_list[1:])\n",
        "    if max_sublist < my_list[0]:\n",
        "        return my_list[0]\n",
        "    return max_sublist\n",
        "# 테스트 코드\n",
        "print(max_list([1, 4, 3, 2, 5, 0, 2]))\n",
        "print(max_list([-1, -3, -10, -5, -9]))\n",
        "print(max_list([3, 7, 3, 7, 7]))\n",
        "print(max_list([1, 2.7, -3, 2.8, 1.6]))\n",
        "print(max_list([32, 2, 3, 0 , 1]))\n"
      ]
    },
    {
      "cell_type": "code",
      "source": [
        "#자리수 더하기\n",
        "def sum_digits(n):\n",
        "    if n < 11:\n",
        "        return n\n",
        "    return sum_digits(n // 10) + sum_digits(n % 10)\n",
        "\n",
        "# 테스트 코드\n",
        "print(sum_digits(22541))\n",
        "print(sum_digits(92130))\n",
        "print(sum_digits(12634))\n",
        "print(sum_digits(704))\n",
        "print(sum_digits(3755))\n"
      ],
      "metadata": {
        "colab": {
          "base_uri": "https://localhost:8080/"
        },
        "id": "FlK81rE5teON",
        "outputId": "db92c431-a6df-4cb9-bfd6-30d2aceedb63"
      },
      "execution_count": 2,
      "outputs": [
        {
          "output_type": "stream",
          "name": "stdout",
          "text": [
            "14\n",
            "15\n",
            "16\n",
            "11\n",
            "20\n"
          ]
        }
      ]
    },
    {
      "cell_type": "code",
      "source": [
        "#피보나치\n",
        "def fib(n):\n",
        "    if n < 3:\n",
        "        return 1\n",
        "    return fib(n-1) + fib(n-2)\n",
        "\n",
        "# 테스트 코드\n",
        "for i in range(1, 16):\n",
        "    print(fib(i))\n"
      ],
      "metadata": {
        "id": "Yk-KFkkAuPca"
      },
      "execution_count": null,
      "outputs": []
    }
  ]
}