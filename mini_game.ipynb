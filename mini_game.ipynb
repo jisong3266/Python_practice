{
  "nbformat": 4,
  "nbformat_minor": 0,
  "metadata": {
    "colab": {
      "provenance": [],
      "authorship_tag": "ABX9TyMP2Y8/n03POqUpR87nlAnM",
      "include_colab_link": true
    },
    "kernelspec": {
      "name": "python3",
      "display_name": "Python 3"
    },
    "language_info": {
      "name": "python"
    }
  },
  "cells": [
    {
      "cell_type": "markdown",
      "metadata": {
        "id": "view-in-github",
        "colab_type": "text"
      },
      "source": [
        "<a href=\"https://colab.research.google.com/github/jisong3266/Python_practice/blob/main/mini_game.ipynb\" target=\"_parent\"><img src=\"https://colab.research.google.com/assets/colab-badge.svg\" alt=\"Open In Colab\"/></a>"
      ]
    },
    {
      "cell_type": "code",
      "execution_count": 67,
      "metadata": {
        "colab": {
          "base_uri": "https://localhost:8080/"
        },
        "id": "MUSJPVhkHGh3",
        "outputId": "2fd9faaf-4eda-4084-aae8-67271042a7ec"
      },
      "outputs": [
        {
          "output_type": "stream",
          "name": "stdout",
          "text": [
            "숫자 6개를 입력하세요: 40 33 8 17 6 2\n",
            "[40, 33, 8, 17, 6, 2]\n",
            "[19, 43, 28, 36, 33, 27, 23]\n",
            "1\n",
            "0\n"
          ]
        }
      ],
      "source": [
        "import random\n",
        "\n",
        "def draw_winning_numbers():\n",
        "    num_list = []\n",
        "    i = 0\n",
        "    while i <= 6:\n",
        "      a = random.randint(1,45)\n",
        "      if a not in num_list:\n",
        "        num_list.append(random.randint(1,45))\n",
        "        i += 1\n",
        "    return num_list\n",
        "    return num_list\n",
        "def count_matching_numbers(list1, list2):\n",
        "    count = 0\n",
        "    for num in list1:\n",
        "        if num in list2:\n",
        "            count += 1\n",
        "    return count\n",
        "\n",
        "def check(numbers, winning_numbers):\n",
        "  original_numbers = []\n",
        "  for i in range(6):\n",
        "    original_numbers.append(winning_numbers[i])\n",
        "  bonus_num = winning_numbers[6]\n",
        "  count = count_matching_numbers(numbers, original_numbers)\n",
        "  winning_price = 0\n",
        "  if count == 6:\n",
        "      winning_price = 1000000000\n",
        "  elif count == 5:\n",
        "    for i in numbers:\n",
        "      if i == bonus_num:\n",
        "        winning_price = 50000000\n",
        "        return winning_price\n",
        "      else:\n",
        "        winning_price = 1000000\n",
        "  elif count == 4:\n",
        "    winning_price = 50000\n",
        "  elif count == 3:\n",
        "    winning_price = 5000\n",
        "  return winning_price\n",
        "\n",
        "user_num = input(\"숫자 6개를 입력하세요: \").split()\n",
        "user_num = list(map(int, user_num))\n",
        "winning_numbers = draw_winning_numbers()\n",
        "print(user_num)\n",
        "print(winning_numbers)\n",
        "print(count_matching_numbers(user_num, winning_numbers))\n",
        "print(check(user_num, winning_numbers))\n",
        "\n"
      ]
    },
    {
      "cell_type": "code",
      "source": [
        "\n",
        "def generate_numbers(n):\n",
        "    num_list = []\n",
        "    i = 1\n",
        "    while i <= n:\n",
        "      a = random.randint(0,9)\n",
        "      if a not in num_list:\n",
        "        num_list.append(random.randint(0,9))\n",
        "        i += 1\n",
        "    return num_list\n",
        "\n",
        "answer = []\n",
        "answer = generate_numbers(3)\n",
        "count = 0\n",
        "while(1):\n",
        "  strike = 0\n",
        "  ball = 0\n",
        "  count += 1\n",
        "  user = []\n",
        "  i = 1\n",
        "  print(\"숫자 3개를 하나씩 차례대로 입력하세요.\")\n",
        "  while(len(user) != 3):\n",
        "    a = int(input(f\"{i}번째 숫자를 입력하세요: \"))\n",
        "    if a not in user:\n",
        "      user.append(a)\n",
        "      i += 1\n",
        "    else:\n",
        "      print(\"범위를 벗어나는 숫자입니다. 다시 입력하세요.\")\n",
        "  if user == answer :\n",
        "    print(f\"축하합니다! {count}번 만에 숫자 3개의 값과 위치를 모두 맞혔습니다\")\n",
        "    break;\n",
        "  else:\n",
        "    for i in user:\n",
        "      if i in answer:\n",
        "        if user.index(i) == answer.index(i):\n",
        "          strike += 1\n",
        "        else:\n",
        "          ball += 1\n",
        "  print(answer)\n",
        "  print(f\"{strike}S {ball}B\")\n"
      ],
      "metadata": {
        "colab": {
          "base_uri": "https://localhost:8080/"
        },
        "id": "ZyVBZTJFRI2v",
        "outputId": "715937f9-8a3d-431f-927b-67746a064f51"
      },
      "execution_count": 59,
      "outputs": [
        {
          "output_type": "stream",
          "name": "stdout",
          "text": [
            "숫자 3개를 하나씩 차례대로 입력하세요.\n",
            "1번째 숫자를 입력하세요: 3\n",
            "2번째 숫자를 입력하세요: 6\n",
            "3번째 숫자를 입력하세요: 9\n",
            "[3, 5, 0]\n",
            "1S 0B\n",
            "숫자 3개를 하나씩 차례대로 입력하세요.\n",
            "1번째 숫자를 입력하세요: 3\n",
            "2번째 숫자를 입력하세요: 0\n",
            "3번째 숫자를 입력하세요: 5\n",
            "[3, 5, 0]\n",
            "1S 2B\n",
            "숫자 3개를 하나씩 차례대로 입력하세요.\n",
            "1번째 숫자를 입력하세요: 3\n",
            "2번째 숫자를 입력하세요: 5\n",
            "3번째 숫자를 입력하세요: 0\n",
            "축하합니다! 3번 만에 숫자 3개의 값과 위치를 모두 맞혔습니다\n"
          ]
        }
      ]
    }
  ]
}