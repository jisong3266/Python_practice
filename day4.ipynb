{
  "nbformat": 4,
  "nbformat_minor": 0,
  "metadata": {
    "colab": {
      "provenance": [],
      "authorship_tag": "ABX9TyMEc39rHC+21GOxHgDCY0jE"
    },
    "kernelspec": {
      "name": "python3",
      "display_name": "Python 3"
    },
    "language_info": {
      "name": "python"
    }
  },
  "cells": [
    {
      "cell_type": "code",
      "execution_count": 16,
      "metadata": {
        "colab": {
          "base_uri": "https://localhost:8080/"
        },
        "id": "yfdWZWMTAKrH",
        "outputId": "bad2e520-d7d3-4227-d36f-55a7d21aef2d"
      },
      "outputs": [
        {
          "output_type": "stream",
          "name": "stdout",
          "text": [
            "이름을 입력하세요: a1\n",
            "비밀번호를 입력하세요: aaa\n",
            "이름을 입력하세요: b1\n",
            "비밀번호를 입력하세요: bbb\n",
            "이름을 입력하세요: c1\n",
            "비밀번호를 입력하세요: ccc\n",
            "이름 : a1, 비밀번호 : aaa\n",
            "이름 : b1, 비밀번호 : bbb\n",
            "이름 : c1, 비밀번호 : ccc\n",
            "\n"
          ]
        }
      ],
      "source": [
        "f = open(\"./test.txt\", \"w\")\n",
        "for i in range(3):\n",
        "  name = input(\"이름을 입력하세요: \")\n",
        "  pw = input(\"비밀번호를 입력하세요: \")\n",
        "  f.write(f\"이름 : {name}, 비밀번호 : {pw}\\n\")\n",
        "f.close()\n",
        "f2 = open(\"./test.txt\")\n",
        "print(f2.read())\n",
        "f2.close()"
      ]
    },
    {
      "cell_type": "code",
      "source": [
        "while(1):\n",
        "  box = []\n",
        "  tel_name_list = []\n",
        "  name = input(\"이름을 입력하세요: \")\n",
        "  pw = input(\"비밀번호를 입력하세요: \")\n",
        "  f3 = open(\"./test.txt\")\n",
        "  name_list = f3.readlines()\n",
        "  check = \"이름 : \" + name + \", 비밀번호 : \" + pw + \"\\n\"\n",
        "  if check in name_list:\n",
        "      print(\"로그인 성공\")\n",
        "      ff = open(\"./member_tel.txt\")\n",
        "      num_list = ff.readlines()\n",
        "      for i in num_list:\n",
        "        box.append(i.split(\" \"))\n",
        "      for i in range(len(box)):\n",
        "        tel_name_list.append(box[i][0])\n",
        "      if name in tel_name_list:\n",
        "          idx = tel_name_list.index(name)\n",
        "          number = input(\"수정할 전화번호를 입력하세요: \")\n",
        "          num_list[idx] = name +\" \" + number + \"\\n\"\n",
        "      else:\n",
        "        number = input(\"전화번호를 입력하세요: \")\n",
        "        num_list.append(name +\" \" + number + \"\\n\")\n",
        "      ff = open(\"./member_tel.txt\", \"w\")\n",
        "      ff.writelines(num_list)\n",
        "      ff.close()\n",
        "  else:\n",
        "      print(\"로그인 실패\")\n",
        "f3.close()"
      ],
      "metadata": {
        "colab": {
          "base_uri": "https://localhost:8080/",
          "height": 418
        },
        "id": "FMbJSby9E6Y7",
        "outputId": "d5ce46ef-722a-4e80-fc70-69d4ce173a88"
      },
      "execution_count": 73,
      "outputs": [
        {
          "output_type": "error",
          "ename": "KeyboardInterrupt",
          "evalue": "ignored",
          "traceback": [
            "\u001b[0;31m---------------------------------------------------------------------------\u001b[0m",
            "\u001b[0;31mKeyboardInterrupt\u001b[0m                         Traceback (most recent call last)",
            "\u001b[0;32m<ipython-input-73-6db02caf9861>\u001b[0m in \u001b[0;36m<cell line: 1>\u001b[0;34m()\u001b[0m\n\u001b[1;32m      2\u001b[0m   \u001b[0mbox\u001b[0m \u001b[0;34m=\u001b[0m \u001b[0;34m[\u001b[0m\u001b[0;34m]\u001b[0m\u001b[0;34m\u001b[0m\u001b[0;34m\u001b[0m\u001b[0m\n\u001b[1;32m      3\u001b[0m   \u001b[0mtel_name_list\u001b[0m \u001b[0;34m=\u001b[0m \u001b[0;34m[\u001b[0m\u001b[0;34m]\u001b[0m\u001b[0;34m\u001b[0m\u001b[0;34m\u001b[0m\u001b[0m\n\u001b[0;32m----> 4\u001b[0;31m   \u001b[0mname\u001b[0m \u001b[0;34m=\u001b[0m \u001b[0minput\u001b[0m\u001b[0;34m(\u001b[0m\u001b[0;34m\"이름을 입력하세요: \"\u001b[0m\u001b[0;34m)\u001b[0m\u001b[0;34m\u001b[0m\u001b[0;34m\u001b[0m\u001b[0m\n\u001b[0m\u001b[1;32m      5\u001b[0m   \u001b[0mpw\u001b[0m \u001b[0;34m=\u001b[0m \u001b[0minput\u001b[0m\u001b[0;34m(\u001b[0m\u001b[0;34m\"비밀번호를 입력하세요: \"\u001b[0m\u001b[0;34m)\u001b[0m\u001b[0;34m\u001b[0m\u001b[0;34m\u001b[0m\u001b[0m\n\u001b[1;32m      6\u001b[0m   \u001b[0mf3\u001b[0m \u001b[0;34m=\u001b[0m \u001b[0mopen\u001b[0m\u001b[0;34m(\u001b[0m\u001b[0;34m\"./test.txt\"\u001b[0m\u001b[0;34m)\u001b[0m\u001b[0;34m\u001b[0m\u001b[0;34m\u001b[0m\u001b[0m\n",
            "\u001b[0;32m/usr/local/lib/python3.10/dist-packages/ipykernel/kernelbase.py\u001b[0m in \u001b[0;36mraw_input\u001b[0;34m(self, prompt)\u001b[0m\n\u001b[1;32m    849\u001b[0m                 \u001b[0;34m\"raw_input was called, but this frontend does not support input requests.\"\u001b[0m\u001b[0;34m\u001b[0m\u001b[0;34m\u001b[0m\u001b[0m\n\u001b[1;32m    850\u001b[0m             )\n\u001b[0;32m--> 851\u001b[0;31m         return self._input_request(str(prompt),\n\u001b[0m\u001b[1;32m    852\u001b[0m             \u001b[0mself\u001b[0m\u001b[0;34m.\u001b[0m\u001b[0m_parent_ident\u001b[0m\u001b[0;34m,\u001b[0m\u001b[0;34m\u001b[0m\u001b[0;34m\u001b[0m\u001b[0m\n\u001b[1;32m    853\u001b[0m             \u001b[0mself\u001b[0m\u001b[0;34m.\u001b[0m\u001b[0m_parent_header\u001b[0m\u001b[0;34m,\u001b[0m\u001b[0;34m\u001b[0m\u001b[0;34m\u001b[0m\u001b[0m\n",
            "\u001b[0;32m/usr/local/lib/python3.10/dist-packages/ipykernel/kernelbase.py\u001b[0m in \u001b[0;36m_input_request\u001b[0;34m(self, prompt, ident, parent, password)\u001b[0m\n\u001b[1;32m    893\u001b[0m             \u001b[0;32mexcept\u001b[0m \u001b[0mKeyboardInterrupt\u001b[0m\u001b[0;34m:\u001b[0m\u001b[0;34m\u001b[0m\u001b[0;34m\u001b[0m\u001b[0m\n\u001b[1;32m    894\u001b[0m                 \u001b[0;31m# re-raise KeyboardInterrupt, to truncate traceback\u001b[0m\u001b[0;34m\u001b[0m\u001b[0;34m\u001b[0m\u001b[0m\n\u001b[0;32m--> 895\u001b[0;31m                 \u001b[0;32mraise\u001b[0m \u001b[0mKeyboardInterrupt\u001b[0m\u001b[0;34m(\u001b[0m\u001b[0;34m\"Interrupted by user\"\u001b[0m\u001b[0;34m)\u001b[0m \u001b[0;32mfrom\u001b[0m \u001b[0;32mNone\u001b[0m\u001b[0;34m\u001b[0m\u001b[0;34m\u001b[0m\u001b[0m\n\u001b[0m\u001b[1;32m    896\u001b[0m             \u001b[0;32mexcept\u001b[0m \u001b[0mException\u001b[0m \u001b[0;32mas\u001b[0m \u001b[0me\u001b[0m\u001b[0;34m:\u001b[0m\u001b[0;34m\u001b[0m\u001b[0;34m\u001b[0m\u001b[0m\n\u001b[1;32m    897\u001b[0m                 \u001b[0mself\u001b[0m\u001b[0;34m.\u001b[0m\u001b[0mlog\u001b[0m\u001b[0;34m.\u001b[0m\u001b[0mwarning\u001b[0m\u001b[0;34m(\u001b[0m\u001b[0;34m\"Invalid Message:\"\u001b[0m\u001b[0;34m,\u001b[0m \u001b[0mexc_info\u001b[0m\u001b[0;34m=\u001b[0m\u001b[0;32mTrue\u001b[0m\u001b[0;34m)\u001b[0m\u001b[0;34m\u001b[0m\u001b[0;34m\u001b[0m\u001b[0m\n",
            "\u001b[0;31mKeyboardInterrupt\u001b[0m: Interrupted by user"
          ]
        }
      ]
    },
    {
      "cell_type": "code",
      "source": [
        "while(1):\n",
        "  try:\n",
        "    num = int(input(\"숫자 입력:\"))\n",
        "  except:\n",
        "    print(\"정수가 아님! 정수를 입력해주세요!\")\n",
        "  else:\n",
        "    print(f\"정수 입력 성공: {num}\")\n",
        "    break"
      ],
      "metadata": {
        "colab": {
          "base_uri": "https://localhost:8080/"
        },
        "id": "3o1rVIBAlLku",
        "outputId": "bdfea4b0-943a-4034-8e30-3c0a063c7f14"
      },
      "execution_count": 75,
      "outputs": [
        {
          "output_type": "stream",
          "name": "stdout",
          "text": [
            "숫자 입력:20.5\n",
            "정수가 아님! 정수를 입력해주세요!\n",
            "숫자 입력:가\n",
            "정수가 아님! 정수를 입력해주세요!\n",
            "숫자 입력:10\n",
            "정수 입력 성공: 10\n"
          ]
        }
      ]
    },
    {
      "cell_type": "code",
      "source": [
        "import numpy as np\n",
        "x = np.array([3, 1, 2])\n",
        "print(x)\n",
        "type(x)"
      ],
      "metadata": {
        "colab": {
          "base_uri": "https://localhost:8080/"
        },
        "id": "IBmhzPOR8py8",
        "outputId": "40110db5-fc05-497d-8288-779d7d64f654"
      },
      "execution_count": 77,
      "outputs": [
        {
          "output_type": "stream",
          "name": "stdout",
          "text": [
            "[3 1 2]\n"
          ]
        },
        {
          "output_type": "execute_result",
          "data": {
            "text/plain": [
              "numpy.ndarray"
            ]
          },
          "metadata": {},
          "execution_count": 77
        }
      ]
    },
    {
      "cell_type": "code",
      "source": [
        "import numpy as np\n",
        "array = np.zeros(10)\n",
        "print(array)\n",
        "array[4] = 1\n",
        "print(array)\n",
        "array = np.arange(10,30)\n",
        "print(array)\n",
        "array = np.random.randint(0,100,size = (2,2))\n",
        "print(array)\n",
        "array = np.random.rand(2,4)\n",
        "print(array)\n"
      ],
      "metadata": {
        "colab": {
          "base_uri": "https://localhost:8080/"
        },
        "id": "T1nV32RbQXBU",
        "outputId": "ff217ce6-9c4e-4077-8647-7ef9f072bfd9"
      },
      "execution_count": 91,
      "outputs": [
        {
          "output_type": "stream",
          "name": "stdout",
          "text": [
            "[0. 0. 0. 0. 0. 0. 0. 0. 0. 0.]\n",
            "[0. 0. 0. 0. 1. 0. 0. 0. 0. 0.]\n",
            "[10 11 12 13 14 15 16 17 18 19 20 21 22 23 24 25 26 27 28 29]\n",
            "[[73 58]\n",
            " [85 30]]\n",
            "[[0.54658639 0.10677707 0.30567028 0.37693226]\n",
            " [0.66599983 0.85076466 0.7160951  0.33565009]]\n"
          ]
        }
      ]
    },
    {
      "cell_type": "code",
      "source": [
        "a = np.arange(35,75)\n",
        "a = a.reshape(-1,4)\n",
        "print(a)\n",
        "print(a[::-1])\n",
        "print(a[1:-1], a[2::])"
      ],
      "metadata": {
        "colab": {
          "base_uri": "https://localhost:8080/"
        },
        "id": "M_MxE089V5ZN",
        "outputId": "e6738f62-c608-40fa-d8f6-33347d4a35bf"
      },
      "execution_count": 209,
      "outputs": [
        {
          "output_type": "stream",
          "name": "stdout",
          "text": [
            "[[35 36 37 38]\n",
            " [39 40 41 42]\n",
            " [43 44 45 46]\n",
            " [47 48 49 50]\n",
            " [51 52 53 54]\n",
            " [55 56 57 58]\n",
            " [59 60 61 62]\n",
            " [63 64 65 66]\n",
            " [67 68 69 70]\n",
            " [71 72 73 74]]\n",
            "[[71 72 73 74]\n",
            " [67 68 69 70]\n",
            " [63 64 65 66]\n",
            " [59 60 61 62]\n",
            " [55 56 57 58]\n",
            " [51 52 53 54]\n",
            " [47 48 49 50]\n",
            " [43 44 45 46]\n",
            " [39 40 41 42]\n",
            " [35 36 37 38]]\n",
            "[[39 40 41 42]\n",
            " [43 44 45 46]\n",
            " [47 48 49 50]\n",
            " [51 52 53 54]\n",
            " [55 56 57 58]\n",
            " [59 60 61 62]\n",
            " [63 64 65 66]\n",
            " [67 68 69 70]] [[43 44 45 46]\n",
            " [47 48 49 50]\n",
            " [51 52 53 54]\n",
            " [55 56 57 58]\n",
            " [59 60 61 62]\n",
            " [63 64 65 66]\n",
            " [67 68 69 70]\n",
            " [71 72 73 74]]\n"
          ]
        }
      ]
    },
    {
      "cell_type": "markdown",
      "source": [
        "reshape와 resize의 차이점\n",
        "reshape는\n",
        "return값 있음, 원래 행렬 유지\n",
        "( , ) 행과 열 중 하나를 -1로 하면 자동으로 맞춰줌\n",
        "resize는 return값 없음, 원래 행렬 유지X\n",
        "정해진 크기보다 적은 수를 넣으면 나머지는 0으로 채움, 많은 수를 넣으면 알아서 잘라줌\n"
      ],
      "metadata": {
        "id": "w2v-wZsZzqN4"
      }
    },
    {
      "cell_type": "code",
      "source": [
        "result = []\n",
        "print(a[:,-1])\n",
        "print(a[:,-1].reshape(10,1))\n",
        "b = a[:,-1].reshape(10,1)\n",
        "print(b[::-1])\n",
        "array = np.random.randint(0,50, size = (5,6))\n",
        "print(array)\n",
        "for i in array:\n",
        "  for j in i:\n",
        "    if j % 2 == 0:\n",
        "      result.append(j)\n",
        "array = np.array(result)\n",
        "print(\"짝수만 출력 :\",array) # print(\"짝수만 출력 :\",array[array % 2 == 0]) 로 하면 간편\n",
        "print(array.shape)\n",
        "array.size"
      ],
      "metadata": {
        "colab": {
          "base_uri": "https://localhost:8080/"
        },
        "id": "T0zOJj2jYQQm",
        "outputId": "af9d5da3-e23f-465d-f489-336e9fcf5815"
      },
      "execution_count": 197,
      "outputs": [
        {
          "output_type": "stream",
          "name": "stdout",
          "text": [
            "[38 42 46 50 54 58 62 66 70 74]\n",
            "[[38]\n",
            " [42]\n",
            " [46]\n",
            " [50]\n",
            " [54]\n",
            " [58]\n",
            " [62]\n",
            " [66]\n",
            " [70]\n",
            " [74]]\n",
            "[[74]\n",
            " [70]\n",
            " [66]\n",
            " [62]\n",
            " [58]\n",
            " [54]\n",
            " [50]\n",
            " [46]\n",
            " [42]\n",
            " [38]]\n",
            "[[31 48  1 21 49 47]\n",
            " [15 44  1 28 23 36]\n",
            " [ 0  7 28 18 13  3]\n",
            " [32  2 47 17 21  2]\n",
            " [12 32 32 23  2  3]]\n",
            "짝수만 출력 : [48 44 28 36  0 28 18 32  2  2 12 32 32  2]\n",
            "(14,)\n"
          ]
        },
        {
          "output_type": "execute_result",
          "data": {
            "text/plain": [
              "14"
            ]
          },
          "metadata": {},
          "execution_count": 197
        }
      ]
    }
  ]
}